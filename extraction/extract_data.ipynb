{
 "cells": [
  {
   "cell_type": "code",
   "execution_count": 1,
   "id": "8b0d860a",
   "metadata": {},
   "outputs": [],
   "source": [
    "from bs4 import BeautifulSoup\n",
    "import requests\n",
    "import re"
   ]
  },
  {
   "cell_type": "code",
   "execution_count": 2,
   "id": "d6c7f356",
   "metadata": {},
   "outputs": [],
   "source": [
    "artists = []"
   ]
  },
  {
   "cell_type": "code",
   "execution_count": 8,
   "id": "75198742",
   "metadata": {},
   "outputs": [],
   "source": [
    "headers = {\n",
    "    'User-Agent': 'Mozilla/5.0 (Windows NT 11.0; Win64; x64) AppleWebKit/537.36 (KHTML, like Gecko) Chrome/58.0.3029.110 Safari/537.3'\n",
    "}"
   ]
  },
  {
   "cell_type": "code",
   "execution_count": 10,
   "id": "b5744987",
   "metadata": {},
   "outputs": [],
   "source": [
    "SEED = [\"https://vi.wikipedia.org/wiki/L%E1%BB%87_Quy%C3%AAn_(ca_s%C4%A9,_sinh_1981)\", \n",
    "        \"https://vi.wikipedia.org/wiki/Miu_L%C3%AA\", \n",
    "        \"https://vi.wikipedia.org/wiki/H%C3%B2a_Minzy\",\n",
    "        \"https://vi.wikipedia.org/wiki/M%E1%BB%B9_Linh\",\n",
    "        \"https://vi.wikipedia.org/wiki/Only_C\",\n",
    "        \"https://vi.wikipedia.org/wiki/JustaTee\",\n",
    "        \"https://vi.wikipedia.org/wiki/Ch%E1%BA%BF_Linh\",\n",
    "        \"https://vi.wikipedia.org/wiki/%C4%90%C3%A0m_V%C4%A9nh_H%C6%B0ng\",\n",
    "        \"https://vi.wikipedia.org/wiki/Mr._Siro\"\n",
    "        ]"
   ]
  },
  {
   "cell_type": "code",
   "execution_count": 11,
   "id": "652f33ea",
   "metadata": {},
   "outputs": [],
   "source": [
    "def remove_characters(text):\n",
    "    if isinstance(text, str):\n",
    "        # Bỏ cụm [sửa|sửa mã nguồn]\n",
    "        cleaned = text.replace(\"[sửa|sửa mã nguồn]\", \"\")\n",
    "        # Xoá ngoặc và dấu cách/dấu ngoặc kép ở đầu & cuối\n",
    "        cleaned = re.sub(r'^[\\s\\(\\)\\[\\]\\'\"]+|[\\s\\(\\)\\[\\]\\'\"]+$', '', cleaned)\n",
    "        return cleaned.strip()\n",
    "    return text\n"
   ]
  },
  {
   "cell_type": "code",
   "execution_count": 12,
   "id": "70fc6935",
   "metadata": {},
   "outputs": [],
   "source": [
    "def get_years(active_years):\n",
    "    is_active = False\n",
    "    if not active_years:\n",
    "        return None, None\n",
    "\n",
    "    if isinstance(active_years, str):\n",
    "        active_years = [active_years]\n",
    "\n",
    "    start_years = []\n",
    "    end_years = []\n",
    "\n",
    "    for period in active_years:\n",
    "        if not period:\n",
    "            continue\n",
    "        p = period.strip()\n",
    "\n",
    "        # Chuẩn hoá các loại dash thành hyphen thường\n",
    "        p = re.sub(r'[–—−]', '-', p)\n",
    "\n",
    "        # 🔹 Lấy tất cả năm và cả từ \"nay\"\n",
    "        tokens = re.findall(r'\\b(?:19|20)\\d{2}\\b|\\b(?:nay|hiện tại|present|now)\\b', p, re.IGNORECASE)\n",
    "\n",
    "        # Nếu không có token nào, thử kiểm tra dạng đặc biệt \"2015-\"\n",
    "        if not tokens:\n",
    "            if re.search(r'\\b(?:19|20)\\d{2}\\b\\s*-\\s*$', p):\n",
    "                start = int(re.search(r'(?:19|20)\\d{2}', p).group())\n",
    "                start_years.append(start)\n",
    "            continue\n",
    "\n",
    "        # Xử lý token đầu tiên (năm bắt đầu)\n",
    "        first = tokens[0]\n",
    "        if re.match(r'(?:19|20)\\d{2}', first):\n",
    "            start_years.append(int(first))\n",
    "\n",
    "        # Xử lý token cuối cùng (năm tan rã)\n",
    "        last = tokens[-1]\n",
    "        if re.match(r'(?:19|20)\\d{2}', last):\n",
    "            end_years.append(int(last))\n",
    "        elif re.match(r'(nay|hiện tại|present|now)', last, re.IGNORECASE):\n",
    "            is_active = True\n",
    "            # nếu là 'nay' thì không có năm tan rã\n",
    "            pass\n",
    "        elif len(tokens) == 1:\n",
    "            # chỉ có một năm, coi là hoạt động trong năm đó\n",
    "            end_years.append(int(first))\n",
    "\n",
    "    if not start_years:\n",
    "        return None, None\n",
    "\n",
    "    start = min(start_years)\n",
    "    end = None if is_active else max(end_years)\n",
    "    return start, end\n"
   ]
  },
  {
   "cell_type": "code",
   "execution_count": 13,
   "id": "1a4219e4",
   "metadata": {},
   "outputs": [],
   "source": [
    "def crawl_singer_info(urls):\n",
    "    singers = []\n",
    "    for url in urls:\n",
    "        try:\n",
    "            print(f\"Crawling {url}...\")\n",
    "            response = requests.get(url, headers=headers)\n",
    "            response.raise_for_status()\n",
    "            soup = BeautifulSoup(response.text, 'html.parser')\n",
    "\n",
    "            #Trỏ vào info box\n",
    "            info_box = soup.find(\"table\", {\"class\": \"infobox\"})\n",
    "            if not info_box:\n",
    "                continue\n",
    "            info_rows = info_box.find_all(\"tr\")\n",
    "            singer_info = {}\n",
    "            singer_info['name'] = soup.find(\"h1\", {\"id\": \"firstHeading\"}).get_text(strip=True)\n",
    "            for row in info_rows:\n",
    "                header = row.find(\"th\")\n",
    "                data = row.find(\"td\")\n",
    "                if header and data:\n",
    "                    key = header.get_text(strip=True)\n",
    "\n",
    "                    # --- TRƯỜNG HỢP 1: Có <div class=\"hlist\"> ---\n",
    "                    hlist_div = data.find(\"div\", {\"class\": \"hlist\"})\n",
    "                    if hlist_div:\n",
    "                        # Lấy nội dung trong các <li>\n",
    "                        items = [li.get_text(strip=True) for li in hlist_div.find_all(\"li\")]\n",
    "                        singer_info[key] = items\n",
    "                        continue  # bỏ qua các xử lý tiếp theo, vì đã có kết quả\n",
    "\n",
    "                    ul_tag = data.find(\"ul\")\n",
    "                    if ul_tag:\n",
    "                        items = [li.get_text(strip=True) for li in ul_tag.find_all(\"li\")]\n",
    "                        singer_info[key] = items\n",
    "                        continue\n",
    "\n",
    "                    # --- TRƯỜNG HỢP 2: Có <br> ---\n",
    "                    if data.find(\"br\"):\n",
    "                        # split dựa theo thẻ <br>\n",
    "                        parts = [text.strip() for text in data.stripped_strings]\n",
    "                        singer_info[key] = [p for p in parts if p]  # loại bỏ chuỗi rỗng\n",
    "                    else:\n",
    "                        # Trường hợp bình thường\n",
    "                        value = data.get_text(separator=' ', strip=True)\n",
    "                        singer_info[key] = value\n",
    "                    \n",
    "                    singer_info['năm thành lập'], singer_info['năm tan rã'] = get_years(singer_info.get('Năm hoạt động'))\n",
    "            # print(f\"Singer Info from {url}: {singer_info}\")\n",
    "            # singer_info['albums'] = crawl_band_albums(soup)\n",
    "            singers.append(singer_info)\n",
    "        except requests.exceptions.RequestException as e:\n",
    "            print(f\"Error fetching {url}: {e}\")\n",
    "    return singers"
   ]
  },
  {
   "cell_type": "code",
   "execution_count": 14,
   "id": "238b6370",
   "metadata": {},
   "outputs": [
    {
     "name": "stdout",
     "output_type": "stream",
     "text": [
      "Crawling https://vi.wikipedia.org/wiki/L%E1%BB%87_Quy%C3%AAn_(ca_s%C4%A9,_sinh_1981)...\n",
      "Crawling https://vi.wikipedia.org/wiki/Miu_L%C3%AA...\n",
      "Crawling https://vi.wikipedia.org/wiki/H%C3%B2a_Minzy...\n",
      "Crawling https://vi.wikipedia.org/wiki/M%E1%BB%B9_Linh...\n",
      "Crawling https://vi.wikipedia.org/wiki/Only_C...\n",
      "Crawling https://vi.wikipedia.org/wiki/JustaTee...\n",
      "Crawling https://vi.wikipedia.org/wiki/Ch%E1%BA%BF_Linh...\n",
      "Crawling https://vi.wikipedia.org/wiki/%C4%90%C3%A0m_V%C4%A9nh_H%C6%B0ng...\n",
      "Crawling https://vi.wikipedia.org/wiki/Mr._Siro...\n",
      "[{'name': 'Lệ Quyên (ca sĩ, sinh 1981)', 'Sinh': ['Vũ Lệ Quyên', '2 tháng 4, 1981', '(44\\xa0tuổi)', 'Hà Nội', ',', 'Việt Nam'], 'năm thành lập': 1999, 'năm tan rã': None, 'Quốc tịch': 'Việt Nam', 'Tên khác': 'Thiên Nga Đen', 'Dân tộc': 'Kinh', 'Nghề nghiệp': 'Ca sĩ', 'Năm hoạt động': '1999\\xa0– nay [ 1 ]', 'Phối ngẫu': ['Lê Đức Huy', '(cưới\\xa02011\\u2060–\\u2060', 'ld.', '2020)'], 'Con cái': '1', 'Giải thưởng': 'Danh sách', 'Website': 'Facebook', 'Thể loại': ['Pop rock', 'Acoustic', 'V-pop', 'R&B', 'Dân gian đương đại', 'Nhạc vàng', 'Nhạc đỏ', 'Tình khúc 1954-1975', 'Nhạc tiền chiến', 'Bolero'], 'Nhạc cụ': 'Giọng hát'}, {'name': 'Miu Lê', 'Sinh': ['Lê Ánh Nhật', '5 tháng 7, 1991', '(34\\xa0tuổi)', 'Ninh Thuận', ',', 'Việt Nam'], 'năm thành lập': 2009, 'năm tan rã': None, 'Quốc tịch': 'Việt Nam', 'Dân tộc': 'Kinh', 'Nghề nghiệp': ['Ca sĩ', 'Diễn viên'], 'Năm hoạt động': '2009–nay', 'Quê quán': 'Thừa Thiên Huế , Việt Nam', 'Bạn đời': 'Trần Hoàng Nam', 'Giải thưởng': 'Danh sách', 'Thể loại': ['V-pop', 'dance-pop', 'ballad', 'R&B'], 'Nhạc cụ': 'Giọng hát', 'Hãng đĩa': ['NewGen Entertainment(2009 – 2011)', 'Avatar Entertainment(2011 – 2014)', 'BPro Entertainment(2016)']}, {'name': 'Hòa Minzy', 'Sinh': ['Nguyễn Thị Hòa', '31 tháng 5, 1995', '(30\\xa0tuổi)', 'Quế Tân', ',', 'Quế Võ', ',', 'Bắc Ninh', ',', 'Việt Nam'], 'năm thành lập': 2014, 'năm tan rã': None, 'Quốc tịch': 'Việt Nam', 'Nghề nghiệp': ['Ca sĩ', 'Người dẫn chương trình', 'Diễn viên'], 'Năm hoạt động': '2014–nay', 'Chiều cao': '1,55 m (5\\xa0ft 1\\xa0in)', 'Con cái': '1 (trai)', 'Cha mẹ': ['Nguyễn Văn Tuấn (cha)', 'Vũ Thị Liên (mẹ)'], 'Giải thưởng': 'Danh sách', 'Nguyên quán': 'Thành phố Hồ Chí Minh , Việt Nam', 'Thể loại': ['V-pop', 'dance-pop', 'EDM', 'ballad', 'R&B', 'bolero', 'folktronica'], 'Nhạc cụ': 'Giọng hát', 'Hãng đĩa': 'HMZ Entertainment'}, {'name': 'Mỹ Linh', 'Sinh': ['Đỗ Mỹ Linh', '19 tháng 8, 1975', '(50\\xa0tuổi)', 'Hà Nội', ',', 'Việt Nam Dân chủ Cộng hòa'], 'năm thành lập': 1993, 'năm tan rã': None, 'Quốc tịch': 'Việt Nam', 'Nghề nghiệp': ['Ca sĩ', 'nhà viết ca từ', 'huấn luyện viên thanh nhạc'], 'Quê quán': 'Nam Định , Việt Nam', 'Chiều cao': '1,55 m (5\\xa0ft 1\\xa0in)', 'Phối ngẫu': 'Anh Quân (cưới\\xa01998)', 'Con cái': '3, bao gồm Anna Trương và Trương Mỹ Anh', 'Người thân': 'Đỗ Mỹ Dung (em gái)', 'Danh hiệu': 'Diva Việt Nam', 'Thể loại': ['V-pop', 'R&B', 'soul', 'funk', 'classical crossover'], 'Nhạc cụ': 'Giọng hát , piano', 'Năm hoạt động': '1993–nay', 'Hãng đĩa': 'AE Records', 'Website': 'mylinh .com .vn'}, {'name': 'Only C', 'Sinh': ['Nguyễn Phúc Thạch', '20 tháng 2, 1988', '(37\\xa0tuổi)', 'Đà Nẵng', ',', 'Việt Nam'], 'năm thành lập': 2009, 'năm tan rã': None, 'Quốc tịch': 'Việt Nam', 'Nghề nghiệp': ['Nhạc sĩ', 'Ca sĩ', 'Nhà sản xuất thu âm'], 'Người thân': 'Nguyễn Phúc Thiện (em trai)', 'Nguyên quán': 'Thành phố Hồ Chí Minh , Việt Nam', 'Thể loại': ['V-pop', 'R&B', 'dance-pop', 'ballad', 'EDM'], 'Nhạc cụ': ['Giọng hát', 'piano', 'organ', 'synth'], 'Năm hoạt động': '2009\\xa0– nay'}, {'name': 'JustaTee', 'Sinh': ['Nguyễn Thanh Tuấn', '1 tháng 11, 1990', '(34\\xa0tuổi)', 'Hà Nội', ', Việt Nam'], 'năm thành lập': 2004, 'năm tan rã': None, 'Tên khác': 'JayTee', 'Nghề nghiệp': ['Ca sĩ kiêm nhạc sĩ sáng tác bài hát', 'Rapper', 'Nhà sản xuất thu âm'], 'Năm hoạt động': '2004–nay', 'Phối ngẫu': 'Nguyễn Trâm Anh (cưới\\xa02018)', 'Con cái': '2', 'Giải thưởng': 'Danh sách', 'Nguyên quán': 'Hà Nội, Việt Nam', 'Thể loại': ['V-pop', 'R&B', 'hip-hop', 'EDM', 'folktronica', 'dance-pop'], 'Nhạc cụ': ['Giọng hát', 'piano', 'organ', 'synth'], 'Hãng đĩa': ['LadyKillah', 'SpaceSpeakers', 'Hoinamese']}, {'name': 'Chế Linh', 'Sinh': '', 'năm thành lập': 1960, 'năm tan rã': None, 'Tên khai sinh': 'Lưu Văn Liên', 'Ngày sinh': '3 tháng 4, 1942 (83\\xa0tuổi) [ 1 ]', 'Nơi sinh': 'Phan Rang , Liên bang Đông Dương', 'Giới tính': 'nam', 'Quốc tịch': 'Canada Việt Nam', 'Dân tộc': 'Chăm', 'Nghề nghiệp': ['Ca sĩ', 'Nhạc sĩ'], 'Bút danh': ['Tú Nhi', 'Lưu Trần Lê'], 'Nghệ danh': 'Chế Linh', 'Năm hoạt động': '1960 - nay', 'Dòng nhạc': 'Nhạc vàng', 'Nhạc cụ': 'Giọng hát', 'Hãng đĩa': ['Làng Văn', 'Thúy Nga', 'Asia', 'Vân Sơn'], 'Hợp tác với': ['Thanh Tuyền', 'Giao Linh', 'Thanh Tâm', 'Thiên Trang', 'Hương Lan', 'Bằng Giang', 'Giang Tử', 'Trường Vũ'], 'Ca khúc': ['Hận đồ bàn', 'Mai lỡ mình xa nhau', 'Nó', 'Thói đời', 'Thành phố buồn', 'Trong tầm mắt đời'], 'Website': ['https://chelinh.com', 'Che Linh official']}, {'name': 'Đàm Vĩnh Hưng', 'Sinh': ['Huỳnh Minh Hưng', '2 tháng 10, 1971', '(54\\xa0tuổi)', 'Sài Gòn', ',', 'Việt Nam Cộng hòa'], 'năm thành lập': 1992, 'năm tan rã': None, 'Quốc tịch': 'Việt Nam', 'Nghề nghiệp': 'Ca sĩ', 'Năm hoạt động': '1992–nay', 'Tổ chức': 'Viet Voice Entertainment', 'Quê quán': 'Điện Bàn , Đà Nẵng , Việt Nam', 'Tôn giáo': 'Kitô giáo', 'Con cái': '3', 'Giải thưởng': 'Danh sách', 'Website': 'damvinhhung.ws', 'Nguyên quán': 'Thành phố Hồ Chí Minh , Việt Nam', 'Thể loại': ['V-pop', 'ballad', 'R&B', 'nhạc tiền chiến', 'nhạc vàng'], 'Nhạc cụ': 'Giọng hát'}, {'name': 'Mr. Siro', 'Sinh': ['Vương Quốc Tuân', '18 tháng 11, 1982', '(42\\xa0tuổi)', 'Thành phố Hồ Chí Minh', ',', 'Việt Nam'], 'năm thành lập': 2013, 'năm tan rã': None, 'Quốc tịch': 'Việt Nam', 'Nghề nghiệp': ['Nhạc sĩ', 'Ca sĩ'], 'Phối ngẫu': 'Bảo Ngân (cưới\\xa02012)', 'Nguyên quán': 'Thành phố Hồ Chí Minh , Việt Nam', 'Thể loại': 'Âm nhạc', 'Nhạc cụ': ['Piano', 'giọng hát'], 'Năm hoạt động': '2013–nay', 'Lượt đăng ký': '2,1 triệu (tính đến 9/1/2024)', 'Các nút Play': 'Các nút Play 100.000 lượt đăng ký 2016 1.000.000 lượt đăng ký 2019'}]\n"
     ]
    }
   ],
   "source": [
    "singers = crawl_singer_info(SEED)\n",
    "print(singers)\n"
   ]
  }
 ],
 "metadata": {
  "kernelspec": {
   "display_name": "Python 3",
   "language": "python",
   "name": "python3"
  },
  "language_info": {
   "codemirror_mode": {
    "name": "ipython",
    "version": 3
   },
   "file_extension": ".py",
   "mimetype": "text/x-python",
   "name": "python",
   "nbconvert_exporter": "python",
   "pygments_lexer": "ipython3",
   "version": "3.13.7"
  }
 },
 "nbformat": 4,
 "nbformat_minor": 5
}
